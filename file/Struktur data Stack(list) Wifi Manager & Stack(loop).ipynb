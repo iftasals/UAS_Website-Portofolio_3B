{
 "cells": [
  {
   "cell_type": "code",
   "execution_count": 1,
   "id": "7a053054",
   "metadata": {},
   "outputs": [
    {
     "name": "stdout",
     "output_type": "stream",
     "text": [
      "Connected to HomeNetwork\n",
      "Connected to OfficeNetwork\n",
      "Connected to CoffeeShopWiFi\n",
      "Current Network: CoffeeShopWiFi\n",
      "Disconnected from CoffeeShopWiFi\n",
      "Reconnecting to OfficeNetwork\n",
      "Disconnected from OfficeNetwork\n",
      "Reconnecting to HomeNetwork\n",
      "Disconnected from HomeNetwork\n",
      "No previous networks to connect to\n",
      "No networks to disconnect from\n"
     ]
    }
   ],
   "source": [
    "class WiFiManager:\n",
    "    def __init__(self):\n",
    "        self.wifi_stack = []\n",
    "\n",
    "    def connect(self, ssid):\n",
    "        self.wifi_stack.append(ssid)\n",
    "        print(f\"Connected to {ssid}\")\n",
    "\n",
    "    def disconnect(self):\n",
    "        if self.wifi_stack:\n",
    "            ssid = self.wifi_stack.pop()\n",
    "            print(f\"Disconnected from {ssid}\")\n",
    "            if self.wifi_stack:\n",
    "                print(f\"Reconnecting to {self.wifi_stack[-1]}\")\n",
    "            else:\n",
    "                print(\"No previous networks to connect to\")\n",
    "        else:\n",
    "            print(\"No networks to disconnect from\")\n",
    "\n",
    "    def current_network(self):\n",
    "        if self.wifi_stack:\n",
    "            return self.wifi_stack[-1]\n",
    "        else:\n",
    "            return None\n",
    "\n",
    "# Contoh penggunaan WiFiManager\n",
    "wifi_manager = WiFiManager()\n",
    "wifi_manager.connect(\"HomeNetwork\")\n",
    "wifi_manager.connect(\"OfficeNetwork\")\n",
    "wifi_manager.connect(\"CoffeeShopWiFi\")\n",
    "\n",
    "print(f\"Current Network: {wifi_manager.current_network()}\")\n",
    "\n",
    "wifi_manager.disconnect()\n",
    "wifi_manager.disconnect()\n",
    "wifi_manager.disconnect()\n",
    "wifi_manager.disconnect()\n"
   ]
  },
  {
   "cell_type": "code",
   "execution_count": 1,
   "id": "e6c6a889",
   "metadata": {},
   "outputs": [
    {
     "name": "stdout",
     "output_type": "stream",
     "text": [
      "Enter 'add' to add a network, 'disconnect' to disconnect, 'current' to see current network, or 'exit' to exit: add\n",
      "Enter SSID: Rumahku@22\n",
      "Enter signal strength: 60\n",
      "Connected to Rumahku@22 with signal strength 60.0\n",
      "Enter 'add' to add a network, 'disconnect' to disconnect, 'current' to see current network, or 'exit' to exit: Current\n",
      "Current Network: Rumahku@22\n",
      "Enter 'add' to add a network, 'disconnect' to disconnect, 'current' to see current network, or 'exit' to exit: disconnect\n",
      "Disconnected from Rumahku@22\n",
      "No previous networks to connect to\n",
      "Enter 'add' to add a network, 'disconnect' to disconnect, 'current' to see current network, or 'exit' to exit: exit\n"
     ]
    }
   ],
   "source": [
    "class WiFiManager:\n",
    "    def __init__(self):\n",
    "        self.wifi_stack = []\n",
    "\n",
    "    def connect(self, ssid, signal_strength):\n",
    "        self.wifi_stack.append((ssid, signal_strength))\n",
    "        print(f\"Connected to {ssid} with signal strength {signal_strength}\")\n",
    "\n",
    "    def disconnect(self):\n",
    "        if self.wifi_stack:\n",
    "            ssid, _ = self.wifi_stack.pop()\n",
    "            print(f\"Disconnected from {ssid}\")\n",
    "            if self.wifi_stack:\n",
    "                print(f\"Reconnecting to {self.wifi_stack[-1][0]}\")\n",
    "            else:\n",
    "                print(\"No previous networks to connect to\")\n",
    "        else:\n",
    "            print(\"No networks to disconnect from\")\n",
    "\n",
    "    def current_network(self):\n",
    "        if self.wifi_stack:\n",
    "            return self.wifi_stack[-1][0]\n",
    "        else:\n",
    "            return None\n",
    "\n",
    "    def add_device(self, ssid, signal_strength):\n",
    "        self.connect(ssid, signal_strength)\n",
    "\n",
    "# Contoh penggunaan WiFiManager dengan input dari pengguna\n",
    "wifi_manager = WiFiManager()\n",
    "\n",
    "while True:\n",
    "    action = input(\"Enter 'add' to add a network, 'disconnect' to disconnect, 'current' to see current network, or 'exit' to exit: \").strip().lower()\n",
    "    \n",
    "    if action == 'add':\n",
    "        ssid = input(\"Enter SSID: \").strip()\n",
    "        signal_strength = float(input(\"Enter signal strength: \").strip())\n",
    "        wifi_manager.add_device(ssid, signal_strength)\n",
    "    elif action == 'disconnect':\n",
    "        wifi_manager.disconnect()\n",
    "    elif action == 'current':\n",
    "        current = wifi_manager.current_network()\n",
    "        if current:\n",
    "            print(f\"Current Network: {current}\")\n",
    "        else:\n",
    "            print(\"No current network connected.\")\n",
    "    elif action == 'exit':\n",
    "        break\n",
    "    else:\n",
    "        print(\"Invalid action. Please enter 'add', 'disconnect', 'current', or 'exit'.\")\n"
   ]
  }
 ],
 "metadata": {
  "kernelspec": {
   "display_name": "Python 3 (ipykernel)",
   "language": "python",
   "name": "python3"
  },
  "language_info": {
   "codemirror_mode": {
    "name": "ipython",
    "version": 3
   },
   "file_extension": ".py",
   "mimetype": "text/x-python",
   "name": "python",
   "nbconvert_exporter": "python",
   "pygments_lexer": "ipython3",
   "version": "3.11.5"
  }
 },
 "nbformat": 4,
 "nbformat_minor": 5
}
